{
  "nbformat": 4,
  "nbformat_minor": 0,
  "metadata": {
    "application/vnd.databricks.v1+notebook": {
      "notebookName": "mini-project (1)",
      "dashboards": [],
      "notebookMetadata": {
        "pythonIndentUnit": 2
      },
      "language": "python",
      "widgets": {},
      "notebookOrigID": 3902208648856592
    },
    "colab": {
      "name": "tabular_results.ipynb",
      "provenance": []
    },
    "language_info": {
      "name": "python"
    },
    "kernelspec": {
      "name": "python3",
      "display_name": "Python 3"
    }
  },
  "cells": [
    {
      "cell_type": "code",
      "metadata": {
        "id": "w_NFBaLyiKca"
      },
      "source": [
        "!apt-get install openjdk-8-jdk-headless -qq > /dev/null\n",
        "!wget -q https://mirrors.estointernet.in/apache/spark/spark-3.1.1/spark-3.1.1-bin-hadoop2.7.tgz\n",
        "!tar xf /content/spark-3.1.1-bin-hadoop2.7.tgz\n",
        "!pip install -q findspark\n",
        "\n",
        "import os\n",
        "os.environ[\"JAVA_HOME\"] = \"/usr/lib/jvm/java-8-openjdk-amd64\"\n",
        "os.environ[\"SPARK_HOME\"] = \"/content/spark-3.1.1-bin-hadoop2.7\"\n",
        "\n",
        "import findspark\n",
        "findspark.init()\n",
        "from pyspark.sql import SparkSession\n",
        "spark = SparkSession.builder.master(\"local[*]\").getOrCreate()"
      ],
      "execution_count": null,
      "outputs": []
    },
    {
      "cell_type": "code",
      "metadata": {
        "application/vnd.databricks.v1+cell": {
          "title": "",
          "showTitle": false,
          "inputWidgets": {},
          "nuid": "08ec2e15-9ccd-48bc-a7ac-bbcb53846905"
        },
        "id": "zV87IgXpiHnA"
      },
      "source": [
        "import os\n",
        "import json\n",
        "import gzip\n",
        "import pandas as pd\n",
        "from urllib.request import urlopen\n",
        "\n",
        "from pyspark.ml.evaluation import RegressionEvaluator\n",
        "from pyspark.ml.recommendation import ALS\n",
        "from pyspark.ml.tuning import ParamGridBuilder, CrossValidator\n",
        "from pyspark.ml.feature import StringIndexer\n",
        "from pyspark.sql.functions import col\n",
        "from pyspark.ml.evaluation import RegressionEvaluator\n",
        "from pyspark.ml.tuning import ParamGridBuilder, CrossValidator\n"
      ],
      "execution_count": null,
      "outputs": []
    },
    {
      "cell_type": "code",
      "metadata": {
        "id": "jEd-dXh_00gV"
      },
      "source": [
        "# urls = \n",
        "# {\n",
        "#     'Music' : 'http://snap.stanford.edu/data/amazon/productGraph/categoryFiles/reviews_Musical_Instruments_5.json.gz',\n",
        "#     'Instant Video' : 'http://snap.stanford.edu/data/amazon/productGraph/categoryFiles/reviews_Amazon_Instant_Video_5.json.gz',\n",
        "#     'Office Products' : 'http://snap.stanford.edu/data/amazon/productGraph/categoryFiles/reviews_Office_Products_5.json.gz',\n",
        "#     'Patio lawn and garden' : 'http://snap.stanford.edu/data/amazon/productGraph/categoryFiles/reviews_Patio_Lawn_and_Garden_5.json.gz'\n",
        "# }"
      ],
      "execution_count": null,
      "outputs": []
    },
    {
      "cell_type": "code",
      "metadata": {
        "id": "tuqoQLi410eX"
      },
      "source": [
        ""
      ],
      "execution_count": null,
      "outputs": []
    },
    {
      "cell_type": "code",
      "metadata": {
        "application/vnd.databricks.v1+cell": {
          "title": "",
          "showTitle": false,
          "inputWidgets": {},
          "nuid": "8f233d07-7cf7-4bbe-9cf8-ab40f721deaa"
        },
        "colab": {
          "base_uri": "https://localhost:8080/"
        },
        "id": "irDQGE1liHnZ",
        "outputId": "8d0f87c4-b6a1-451b-9cdb-b2e03ba6bf25"
      },
      "source": [
        "!curl -L http://snap.stanford.edu/data/amazon/productGraph/categoryFiles/reviews_Amazon_Instant_Video_5.json.gz -o data.json.gz"
      ],
      "execution_count": null,
      "outputs": [
        {
          "output_type": "stream",
          "text": [
            "  % Total    % Received % Xferd  Average Speed   Time    Time     Time  Current\n",
            "                                 Dload  Upload   Total   Spent    Left  Speed\n",
            "100 9294k  100 9294k    0     0  4025k      0  0:00:02  0:00:02 --:--:-- 4027k\n"
          ],
          "name": "stdout"
        }
      ]
    },
    {
      "cell_type": "code",
      "metadata": {
        "application/vnd.databricks.v1+cell": {
          "title": "",
          "showTitle": false,
          "inputWidgets": {},
          "nuid": "dad8ecd3-c8bd-4534-9427-dafe532cb196"
        },
        "id": "PXB9eoVfiHnb"
      },
      "source": [
        "# %fs ls \"file:/databricks/driver\""
      ],
      "execution_count": null,
      "outputs": []
    },
    {
      "cell_type": "code",
      "metadata": {
        "application/vnd.databricks.v1+cell": {
          "title": "",
          "showTitle": false,
          "inputWidgets": {},
          "nuid": "09c5c647-22db-450a-a7ad-d60b44d365c3"
        },
        "colab": {
          "base_uri": "https://localhost:8080/"
        },
        "id": "Z9_usnZoiHnc",
        "outputId": "5d178ee2-6be3-4bdf-9622-a37c320d2c2a"
      },
      "source": [
        "df = spark.read.json('data.json.gz')\n",
        "df.show()"
      ],
      "execution_count": null,
      "outputs": [
        {
          "output_type": "stream",
          "text": [
            "+----------+--------+-------+--------------------+-----------+--------------+--------------------+--------------------+--------------+\n",
            "|      asin| helpful|overall|          reviewText| reviewTime|    reviewerID|        reviewerName|             summary|unixReviewTime|\n",
            "+----------+--------+-------+--------------------+-----------+--------------+--------------------+--------------------+--------------+\n",
            "|B000H00VBQ|  [0, 0]|    2.0|I had big expecta...| 05 3, 2014|A11N155CW1UV02|            AdrianaM|A little bit bori...|    1399075200|\n",
            "|B000H00VBQ|  [0, 0]|    5.0|I highly recommen...| 09 3, 2012|A3BC8O2KCL29V2|             Carol T|Excellent Grown U...|    1346630400|\n",
            "|B000H00VBQ|  [0, 1]|    1.0|This one is a rea...|10 16, 2013| A60D5HQFOTSOM|Daniel Cooper \"da...|Way too boring fo...|    1381881600|\n",
            "|B000H00VBQ|  [0, 0]|    4.0|Mysteries are int...|10 30, 2013|A1RJPIGRSNX4PW|      J. Kaplan \"JJ\"|Robson Green is m...|    1383091200|\n",
            "|B000H00VBQ|  [1, 1]|    5.0|This show always ...|02 11, 2009|A16XRPF40679KG|       Michael Dobey|Robson green and ...|    1234310400|\n",
            "|B000H00VBQ|[12, 12]|    5.0|I discovered this...|10 11, 2011|A1POFVVXUZR3IQ|             Z Hayes|I purchased the s...|    1318291200|\n",
            "|B000H0X79O|  [0, 0]|    3.0|It beats watching...|10 15, 2013|A1PG2VV4W1WRPL|Jimmy C. Saunders...|It takes up your ...|    1381795200|\n",
            "|B000H0X79O|  [0, 0]|    3.0|There are many ep...|12 29, 2013| ATASGS8HZHGIB|             JohnnyC|A reasonable way ...|    1388275200|\n",
            "|B000H0X79O|  [0, 0]|    5.0|This is the best ...|02 26, 2014|A3RXD7Z44T9DHW|              Kansas|           kansas001|    1393372800|\n",
            "|B000H0X79O|  [0, 0]|    3.0|Not bad.  Didn't ...| 04 2, 2014| AUX8EUBNTHIIU| Louis V. Borsellino| Entertaining Comedy|    1396396800|\n",
            "|B000H0X79O|  [0, 0]|    4.0|Funny, interestin...| 02 7, 2014| AXM3GQLD0CHIL|           Ray Shiva|     Worth watching!|    1391731200|\n",
            "|B000H29TXU|  [0, 0]|    4.0|I love the variet...| 02 6, 2014|A398QSASJOIKA6|     Amazon Customer|comedy club quali...|    1391644800|\n",
            "|B000H29TXU|  [0, 1]|    3.0|comedy is a matte...| 09 5, 2013|A2U61O0KWJH3MM|            Cathy P.|                  ok|    1378339200|\n",
            "|B000H29TXU|  [0, 0]|    3.0|if this had to do...|06 14, 2013|A2LSZFEFTDRDIJ|       debra marrero|not sure who this...|    1371168000|\n",
            "|B000H29TXU|  [0, 0]|    5.0|Watched it for Ke...|04 29, 2014|A39F2EW27YYUDM|         Emily Booth|           Loved it!|    1398729600|\n",
            "|B000H29TXU|  [0, 0]|    2.0|he's OK. His humo...| 03 6, 2014| AO1Z63O9CTT95|    James Westervelt|same routine he d...|    1394064000|\n",
            "|B000H2DMME|  [0, 0]|    3.0|some comedians ar...| 01 9, 2014|A1378ZJMWCTVT3|                Alla|           it was ok|    1389225600|\n",
            "|B000H2DMME|  [0, 0]|    3.0|I only watched th...|05 18, 2014|A2JE0JYIZL5NU4|          C. A. Neal|I Only Watched Wa...|    1400371200|\n",
            "|B000H2DMME|  [0, 0]|    5.0|Enjoyed some of t...|02 10, 2013|A2LSZFEFTDRDIJ|       debra marrero|     Some were funny|    1360454400|\n",
            "|B000H2DMME|  [0, 0]|    5.0|All the comedians...| 03 6, 2014|A3RXD7Z44T9DHW|              Kansas|              kansas|    1394064000|\n",
            "+----------+--------+-------+--------------------+-----------+--------------+--------------------+--------------------+--------------+\n",
            "only showing top 20 rows\n",
            "\n"
          ],
          "name": "stdout"
        }
      ]
    },
    {
      "cell_type": "code",
      "metadata": {
        "application/vnd.databricks.v1+cell": {
          "title": "",
          "showTitle": false,
          "inputWidgets": {},
          "nuid": "85a9fb4a-8d09-495d-866b-5c794bf4e5f3"
        },
        "id": "yrJVeFH-iHnf"
      },
      "source": [
        "# only select the necessary rows\n",
        "df = df.select('asin','overall','reviewText','reviewerID')\n",
        "# Convert unique strings to integer using StringIndexer\n",
        "asin_indexer = StringIndexer(inputCol=\"asin\", outputCol=\"itemId\")\n",
        "reviewerID_indexer = StringIndexer(inputCol=\"reviewerID\", outputCol=\"userId\")\n",
        "\n",
        "df = asin_indexer.fit(df).transform(df)\n",
        "df = reviewerID_indexer.fit(df).transform(df)"
      ],
      "execution_count": null,
      "outputs": []
    },
    {
      "cell_type": "code",
      "metadata": {
        "application/vnd.databricks.v1+cell": {
          "title": "",
          "showTitle": false,
          "inputWidgets": {},
          "nuid": "a1a0edb8-c14d-429a-b321-ae41817229fb"
        },
        "colab": {
          "base_uri": "https://localhost:8080/"
        },
        "id": "l95hLxlniHnh",
        "outputId": "eb927716-ab00-44f5-c63b-ad57939555b3"
      },
      "source": [
        "df = df.select('userId','itemId','reviewText','overall')\n",
        "df = df.withColumnRenamed('overall', 'rating')\n",
        "\n",
        "df.show()"
      ],
      "execution_count": null,
      "outputs": [
        {
          "output_type": "stream",
          "text": [
            "+------+------+--------------------+------+\n",
            "|userId|itemId|          reviewText|rating|\n",
            "+------+------+--------------------+------+\n",
            "|1962.0|1256.0|I had big expecta...|   2.0|\n",
            "|4289.0|1256.0|I highly recommen...|   5.0|\n",
            "| 486.0|1256.0|This one is a rea...|   1.0|\n",
            "|3445.0|1256.0|Mysteries are int...|   4.0|\n",
            "|   4.0|1256.0|This show always ...|   5.0|\n",
            "|  30.0|1256.0|I discovered this...|   5.0|\n",
            "|2153.0|1433.0|It beats watching...|   3.0|\n",
            "|2961.0|1433.0|There are many ep...|   3.0|\n",
            "|4539.0|1433.0|This is the best ...|   5.0|\n",
            "|1924.0|1433.0|Not bad.  Didn't ...|   3.0|\n",
            "|1935.0|1433.0|Funny, interestin...|   4.0|\n",
            "|4258.0|1434.0|I love the variet...|   4.0|\n",
            "|2462.0|1434.0|comedy is a matte...|   3.0|\n",
            "|3924.0|1434.0|if this had to do...|   3.0|\n",
            "|1680.0|1434.0|Watched it for Ke...|   5.0|\n",
            "|2915.0|1434.0|he's OK. His humo...|   2.0|\n",
            "|1971.0| 810.0|some comedians ar...|   3.0|\n",
            "| 599.0| 810.0|I only watched th...|   3.0|\n",
            "|3924.0| 810.0|Enjoyed some of t...|   5.0|\n",
            "|4539.0| 810.0|All the comedians...|   5.0|\n",
            "+------+------+--------------------+------+\n",
            "only showing top 20 rows\n",
            "\n"
          ],
          "name": "stdout"
        }
      ]
    },
    {
      "cell_type": "code",
      "metadata": {
        "application/vnd.databricks.v1+cell": {
          "title": "",
          "showTitle": false,
          "inputWidgets": {},
          "nuid": "483ee60d-f35e-42c9-b257-b450d36053bb"
        },
        "colab": {
          "base_uri": "https://localhost:8080/"
        },
        "id": "fqB7qeyHiHnj",
        "outputId": "7eea9b2b-8a27-43bc-d045-5f4e53147538"
      },
      "source": [
        "df = df.withColumn('userId', col('userId').cast('integer')).\\\n",
        "        withColumn('itemId', col('itemId').cast('integer')).\\\n",
        "        withColumn('rating', col('rating').cast('float')).\\\n",
        "        drop('reviewText')\n",
        "\n",
        "df.show()"
      ],
      "execution_count": null,
      "outputs": [
        {
          "output_type": "stream",
          "text": [
            "+------+------+------+\n",
            "|userId|itemId|rating|\n",
            "+------+------+------+\n",
            "|  1962|  1256|   2.0|\n",
            "|  4289|  1256|   5.0|\n",
            "|   486|  1256|   1.0|\n",
            "|  3445|  1256|   4.0|\n",
            "|     4|  1256|   5.0|\n",
            "|    30|  1256|   5.0|\n",
            "|  2153|  1433|   3.0|\n",
            "|  2961|  1433|   3.0|\n",
            "|  4539|  1433|   5.0|\n",
            "|  1924|  1433|   3.0|\n",
            "|  1935|  1433|   4.0|\n",
            "|  4258|  1434|   4.0|\n",
            "|  2462|  1434|   3.0|\n",
            "|  3924|  1434|   3.0|\n",
            "|  1680|  1434|   5.0|\n",
            "|  2915|  1434|   2.0|\n",
            "|  1971|   810|   3.0|\n",
            "|   599|   810|   3.0|\n",
            "|  3924|   810|   5.0|\n",
            "|  4539|   810|   5.0|\n",
            "+------+------+------+\n",
            "only showing top 20 rows\n",
            "\n"
          ],
          "name": "stdout"
        }
      ]
    },
    {
      "cell_type": "code",
      "metadata": {
        "id": "xI93oH_gp1eO"
      },
      "source": [
        "paramRank = [5, 10, 25, 50]\n",
        "paramReg = [0.1, 0.01, 0.001]\n",
        "\n",
        "maxIter = 20\n",
        "iter_list = [i for i in range(1,maxIter+1)]"
      ],
      "execution_count": null,
      "outputs": []
    },
    {
      "cell_type": "code",
      "metadata": {
        "colab": {
          "base_uri": "https://localhost:8080/"
        },
        "id": "-OUoskfSKcP6",
        "outputId": "21802bb3-7455-4cca-cd37-77ab8bc05249"
      },
      "source": [
        "import matplotlib.pyplot as plt\n",
        "from matplotlib.ticker import MaxNLocator\n",
        "import time\n",
        "\n",
        "(train, test) = df.randomSplit([0.8, 0.2], seed = 1234)\n",
        "\n",
        "\n",
        "for rank in paramRank:\n",
        "  for reg in paramReg:\n",
        "    \n",
        "    print(f\"RMSE for rank: {rank} reg: {reg} maxiter: {maxIter}\")\n",
        "    # measuring time of training\n",
        "    start_time = time.time()\n",
        "    als = ALS(maxIter=maxIter, regParam=reg, rank=rank,userCol=\"userId\", itemCol=\"itemId\", ratingCol=\"rating\",coldStartStrategy=\"drop\")\n",
        "    model = als.fit(train) \n",
        "    # Evaluate the model by computing the RMSE on the test data\n",
        "    predictions = model.transform(test)\n",
        "    evaluator = RegressionEvaluator(metricName=\"rmse\", labelCol=\"rating\",predictionCol=\"prediction\")\n",
        "    rmse = evaluator.evaluate(predictions)\n",
        "    total_time = time.time() - start_time\n",
        "    \n",
        "    print(f\"RMSE = {rmse} time = {total_time}\")      "
      ],
      "execution_count": null,
      "outputs": [
        {
          "output_type": "stream",
          "text": [
            "RMSE for rank: 5 reg: 0.1 maxiter: 20\n",
            "RMSE = 1.2175521436359544 time = 20.694786548614502\n",
            "RMSE for rank: 5 reg: 0.01 maxiter: 20\n",
            "RMSE = 4.74055840411915 time = 16.83229160308838\n",
            "RMSE for rank: 5 reg: 0.001 maxiter: 20\n",
            "RMSE = 12.806468950136264 time = 17.17692470550537\n",
            "RMSE for rank: 10 reg: 0.1 maxiter: 20\n",
            "RMSE = 1.1716486303246794 time = 16.293590545654297\n",
            "RMSE for rank: 10 reg: 0.01 maxiter: 20\n",
            "RMSE = 3.091716529691959 time = 16.230996131896973\n",
            "RMSE for rank: 10 reg: 0.001 maxiter: 20\n",
            "RMSE = 6.248090327350265 time = 16.491925954818726\n",
            "RMSE for rank: 25 reg: 0.1 maxiter: 20\n",
            "RMSE = 1.1172076641934812 time = 18.045958042144775\n",
            "RMSE for rank: 25 reg: 0.01 maxiter: 20\n",
            "RMSE = 1.3656537679984035 time = 18.468995332717896\n",
            "RMSE for rank: 25 reg: 0.001 maxiter: 20\n",
            "RMSE = 2.2796640042535343 time = 17.89062762260437\n",
            "RMSE for rank: 50 reg: 0.1 maxiter: 20\n",
            "RMSE = 1.1049291362255416 time = 24.725177764892578\n",
            "RMSE for rank: 50 reg: 0.01 maxiter: 20\n",
            "RMSE = 1.2672485685849209 time = 24.884576320648193\n",
            "RMSE for rank: 50 reg: 0.001 maxiter: 20\n",
            "RMSE = 1.7607383141163189 time = 24.922021865844727\n"
          ],
          "name": "stdout"
        }
      ]
    },
    {
      "cell_type": "code",
      "metadata": {
        "id": "nFeqBkQoKdk6"
      },
      "source": [
        ""
      ],
      "execution_count": null,
      "outputs": []
    }
  ]
}